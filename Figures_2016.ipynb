{
 "cells": [
  {
   "cell_type": "code",
   "execution_count": null,
   "metadata": {},
   "outputs": [],
   "source": [
    "import pandas as pd\n",
    "import numpy as np\n",
    "from sklearn.linear_model import LinearRegression\n",
    "import matplotlib.pyplot as plt\n",
    "import glob\n",
    "import re"
   ]
  },
  {
   "cell_type": "code",
   "execution_count": null,
   "metadata": {},
   "outputs": [],
   "source": [
    "p_1_files = glob.glob(f'data_2016/*_0_*.csv')\n",
    "p_2_files = glob.glob(f'data_2016/*_1_*.csv')\n",
    "p_3_files = glob.glob(f'data_2016/*_2_*.csv')\n",
    "p_4_files = glob.glob(f'data_2016/*_3_*.csv')\n",
    "p_5_files = glob.glob(f'data_2016/*_4_*.csv')\n",
    "p_6_files = glob.glob(f'data_2016/*_5_*.csv')\n",
    "p_7_files = glob.glob(f'data_2016/*_6_*.csv')\n",
    "p_8_files = glob.glob(f'data_2016/*_7_*.csv')\n",
    "p_9_files = glob.glob(f'data_2016/*_8_*.csv')\n",
    "p_10_files = glob.glob(f'data_2016/*_9_*.csv')\n",
    "\n",
    "print(len(p_1_files))\n",
    "print(len(p_2_files))\n",
    "print(len(p_3_files))\n",
    "print(len(p_4_files))\n",
    "print(len(p_5_files))\n",
    "print(len(p_6_files))\n",
    "print(len(p_7_files))\n",
    "print(len(p_8_files))\n",
    "print(len(p_9_files))\n",
    "print(len(p_10_files))"
   ]
  },
  {
   "cell_type": "code",
   "execution_count": null,
   "metadata": {},
   "outputs": [],
   "source": [
    "dfs_p1_16 = [pd.read_csv(filename) for filename in p_1_files]\n",
    "dfs_p2_16 = [pd.read_csv(filename) for filename in p_2_files]\n",
    "dfs_p3_16 = [pd.read_csv(filename) for filename in p_3_files]\n",
    "dfs_p4_16 = [pd.read_csv(filename) for filename in p_4_files]\n",
    "dfs_p5_16 = [pd.read_csv(filename) for filename in p_5_files]\n",
    "dfs_p6_16 = [pd.read_csv(filename) for filename in p_6_files]\n",
    "dfs_p7_16 = [pd.read_csv(filename) for filename in p_7_files]\n",
    "dfs_p8_16 = [pd.read_csv(filename) for filename in p_8_files]\n",
    "dfs_p9_16 = [pd.read_csv(filename) for filename in p_9_files]\n",
    "dfs_p10_16 = [pd.read_csv(filename) for filename in p_10_files]\n",
    "\n",
    "big_frame_p1_16 = pd.concat(dfs_p1_16, ignore_index=True)\n",
    "big_frame_p2_16 = pd.concat(dfs_p2_16, ignore_index=True)\n",
    "big_frame_p3_16 = pd.concat(dfs_p3_16, ignore_index=True)\n",
    "big_frame_p4_16 = pd.concat(dfs_p4_16, ignore_index=True)\n",
    "big_frame_p5_16 = pd.concat(dfs_p5_16, ignore_index=True)\n",
    "big_frame_p6_16 = pd.concat(dfs_p6_16, ignore_index=True)\n",
    "big_frame_p7_16 = pd.concat(dfs_p7_16, ignore_index=True)\n",
    "big_frame_p8_16 = pd.concat(dfs_p8_16, ignore_index=True)\n",
    "big_frame_p9_16 = pd.concat(dfs_p9_16, ignore_index=True)\n",
    "big_frame_p10_16 = pd.concat(dfs_p10_16, ignore_index=True)\n",
    "\n",
    "big_frame_list_16 = [big_frame_p1_16, big_frame_p2_16, big_frame_p3_16, big_frame_p4_16, big_frame_p5_16, \n",
    "                  big_frame_p6_16, big_frame_p7_16, big_frame_p8_16, big_frame_p9_16, big_frame_p10_16]"
   ]
  },
  {
   "cell_type": "code",
   "execution_count": null,
   "metadata": {},
   "outputs": [],
   "source": []
  },
  {
   "cell_type": "code",
   "execution_count": null,
   "metadata": {},
   "outputs": [],
   "source": []
  },
  {
   "cell_type": "code",
   "execution_count": null,
   "metadata": {},
   "outputs": [],
   "source": []
  }
 ],
 "metadata": {
  "language_info": {
   "name": "python"
  }
 },
 "nbformat": 4,
 "nbformat_minor": 2
}
